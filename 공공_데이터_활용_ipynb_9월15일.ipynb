{
  "nbformat": 4,
  "nbformat_minor": 0,
  "metadata": {
    "colab": {
      "private_outputs": true,
      "provenance": [],
      "collapsed_sections": [],
      "mount_file_id": "1MPFJ8tO-reX5CZoDR-ZG_SpPNQPWTR13",
      "authorship_tag": "ABX9TyNlvJVSaHqYHSuygokPD6Zu",
      "include_colab_link": true
    },
    "kernelspec": {
      "name": "python3",
      "display_name": "Python 3"
    },
    "language_info": {
      "name": "python"
    }
  },
  "cells": [
    {
      "cell_type": "markdown",
      "metadata": {
        "id": "view-in-github",
        "colab_type": "text"
      },
      "source": [
        "<a href=\"https://colab.research.google.com/github/Sarahfrederick/Data/blob/main/%EA%B3%B5%EA%B3%B5_%EB%8D%B0%EC%9D%B4%ED%84%B0_%ED%99%9C%EC%9A%A9_ipynb_9%EC%9B%9415%EC%9D%BC.ipynb\" target=\"_parent\"><img src=\"https://colab.research.google.com/assets/colab-badge.svg\" alt=\"Open In Colab\"/></a>"
      ]
    },
    {
      "cell_type": "code",
      "source": [
        " #한글폰트 설치\n",
        " !sudo apt-get install -y fonts-nanum\n",
        " !sudo fc-cache -fv\n",
        " !rm ~/.cache/matplotlib -rf"
      ],
      "metadata": {
        "id": "bRFm1GUwjOce"
      },
      "execution_count": null,
      "outputs": []
    },
    {
      "cell_type": "code",
      "source": [
        "#코랩 런타임 재시작\n",
        "#상단 메뉴에서 '런타임' - '런타임 다시 시작'"
      ],
      "metadata": {
        "id": "foai5RJjjS87"
      },
      "execution_count": null,
      "outputs": []
    },
    {
      "cell_type": "code",
      "source": [
        "#폰트 지정\n",
        "\n",
        "import matplotlib.pyplot as plt\n",
        "plt.rc('font', family='NanumBarunGothic')\n"
      ],
      "metadata": {
        "id": "OcoZm8BpjUs6"
      },
      "execution_count": null,
      "outputs": []
    },
    {
      "cell_type": "code",
      "source": [
        "#데이터 입력 \n",
        "체중 = [55, 50, 70, 45]\n",
        "신장 = [1.57, 1.60, 1.64, 1.68]"
      ],
      "metadata": {
        "id": "1xxgq0qFksGM"
      },
      "execution_count": null,
      "outputs": []
    },
    {
      "cell_type": "code",
      "source": [
        "#데이터프레임 만들기\n",
        "import pandas as pd\n",
        "BMIdata = list(zip(체중, 신장))\n",
        "df = pd.DataFrame(data = BMIdata, columns=['체중', '신장'])\n",
        "df"
      ],
      "metadata": {
        "id": "S-p8RBjFnomV"
      },
      "execution_count": null,
      "outputs": []
    },
    {
      "cell_type": "code",
      "source": [
        "#새로운 변수 생성해서 BMI 계산, 비만 여부 나타내기\n",
        "import numpy as np\n",
        "df['BMI'] = df['체중'] / df['신장']**2\n",
        "df['비만여부'] = np.where(df['BMI'] >=25, '비만', np.where(df['BMI'] >=18.5, '정상', '저체중'))\n",
        "df"
      ],
      "metadata": {
        "id": "J_PVo-3iqS9n"
      },
      "execution_count": null,
      "outputs": []
    },
    {
      "cell_type": "code",
      "source": [
        "#파일 업로드\n",
        "from google.colab import files\n",
        "myfile=files.upload()"
      ],
      "metadata": {
        "id": "ZAQ3GWE3Y9Fn"
      },
      "execution_count": null,
      "outputs": []
    },
    {
      "cell_type": "code",
      "source": [
        "#pyreadstat 패키지 설치\n",
        "!pip install pyreadstat"
      ],
      "metadata": {
        "id": "OIJi1sAhgaYM"
      },
      "execution_count": null,
      "outputs": []
    },
    {
      "cell_type": "code",
      "source": [
        "#구글 드라이브 사용 파일 업로드\n",
        "from.google.colab import drive\n",
        "drive.mount('/content/drive/MyDrive/hn20_all.sav')"
      ],
      "metadata": {
        "id": "XdLyDPWegOXR"
      },
      "execution_count": null,
      "outputs": []
    },
    {
      "cell_type": "code",
      "source": [
        "#spss 파일 불러오기\n",
        "Rawdata = pd.read_spss('hn20_all.sav')\n",
        "Rawdata.head()"
      ],
      "metadata": {
        "id": "rYjHNW9BhtWh"
      },
      "execution_count": null,
      "outputs": []
    },
    {
      "cell_type": "code",
      "source": [
        "#데이터의 행과 열의 갯수 출력\n",
        "Rawdata.shape"
      ],
      "metadata": {
        "id": "K5TehKB5jN7d"
      },
      "execution_count": null,
      "outputs": []
    },
    {
      "cell_type": "code",
      "source": [
        "#데이터 추출하기\n",
        "BMIdf = Rawdata[['ID', 'region', 'sex', 'age', 'HE_ht', 'HE_wt', 'HE_wc', 'HE_BMI', 'HE_obe']]\n",
        "BMIdf.head()"
      ],
      "metadata": {
        "id": "4f0MdUNIjR6X"
      },
      "execution_count": null,
      "outputs": []
    },
    {
      "cell_type": "code",
      "source": [
        "#변수명 바꾸기\n",
        "BMIdf = BMIdf.rename(columns =\n",
        "             {'region' : '지역', \n",
        "                 'sex' : '성별',\n",
        "                 'age' : '나이',\n",
        "               'HE_ht' : '신장',\n",
        "               'HE_wt' : '체중',\n",
        "               'HE_wc' : '허리둘레',\n",
        "               'HE_BMI' : 'BMI',\n",
        "               'HE_obe' : '비만여부'})\n",
        "BMIdf.head()"
      ],
      "metadata": {
        "id": "gNbzO2sgSfqK"
      },
      "execution_count": null,
      "outputs": []
    },
    {
      "cell_type": "code",
      "source": [
        "#데이터프레임 복사\n",
        "data = BMIdf.copy()"
      ],
      "metadata": {
        "id": "M5a3xHZtQVbS"
      },
      "execution_count": null,
      "outputs": []
    },
    {
      "cell_type": "code",
      "source": [
        "#결측값 확인\n",
        "BMIdf.isna().sum()"
      ],
      "metadata": {
        "id": "P_73CSNIniwW"
      },
      "execution_count": null,
      "outputs": []
    },
    {
      "cell_type": "code",
      "source": [
        "#결측치 있는 행 제거하기\n",
        "BMIdf.dropna(subset = ['비만여부'])"
      ],
      "metadata": {
        "id": "QlHi41C4bxoW"
      },
      "execution_count": null,
      "outputs": []
    },
    {
      "cell_type": "code",
      "source": [
        "#여러 변수의 결측치 제거\n",
        "BMIdf.dropna(subset = ['BMI', '비만여부'])"
      ],
      "metadata": {
        "id": "9sIuQHvbb5LN"
      },
      "execution_count": null,
      "outputs": []
    },
    {
      "cell_type": "code",
      "source": [
        "#결측치가 하나라도 있으면 제거하기\n",
        "BMIdf = BMIdf.dropna()"
      ],
      "metadata": {
        "id": "KsWTiLAfcgg8"
      },
      "execution_count": null,
      "outputs": []
    },
    {
      "cell_type": "code",
      "source": [
        "#결측값 확인\n",
        "BMIdf.isna().sum()"
      ],
      "metadata": {
        "id": "Q5AB73TkczvZ"
      },
      "execution_count": null,
      "outputs": []
    },
    {
      "cell_type": "code",
      "source": [
        "#도수 분포\n",
        "pd.Series(BMIdf['비만여부']).value_counts()"
      ],
      "metadata": {
        "id": "uPc6xPPFtAGA"
      },
      "execution_count": null,
      "outputs": []
    },
    {
      "cell_type": "code",
      "source": [
        "#도수 분포\n",
        "BMIdf['비만여부'].value_counts()"
      ],
      "metadata": {
        "id": "7_v4d_3MeOjI"
      },
      "execution_count": null,
      "outputs": []
    },
    {
      "cell_type": "code",
      "source": [
        "#빈도 막대 그래프 만들기\n",
        "import seaborn as sns\n",
        "sns.countplot(BMIdf['비만여부'])"
      ],
      "metadata": {
        "id": "EqKhDzrPt8e7"
      },
      "execution_count": null,
      "outputs": []
    },
    {
      "cell_type": "code",
      "source": [
        "#항목별 이름 부여\n",
        "BMIdf['비만여부'] = np.where(BMIdf['비만여부'] == 1, '저체중',\n",
        "                    np.where(BMIdf['비만여부'] == 2, '정상',\n",
        "                    np.where(BMIdf['비만여부'] == 3, '비만전단계',\n",
        "                    np.where(BMIdf['비만여부'] == 4, '1단계비만',\n",
        "                    np.where(BMIdf['비만여부'] == 5, '2단계비만', '3단계비만')))))\n",
        "BMIdf.head()"
      ],
      "metadata": {
        "id": "9I3JBV_-uFUd"
      },
      "execution_count": null,
      "outputs": []
    },
    {
      "cell_type": "code",
      "source": [
        "#빈도 막대 그래프 만들기 \n",
        "import seaborn as sns\n",
        "sns.countplot(BMIdf['비만여부'])"
      ],
      "metadata": {
        "id": "q1srf0x2uz2U"
      },
      "execution_count": null,
      "outputs": []
    },
    {
      "cell_type": "code",
      "source": [
        "#빈도 막대 그래프 정렬하기 \n",
        "import seaborn as sns\n",
        "sns.countplot(BMIdf['비만여부'], order = ['저체중', '정상', '비만전단계', '1단계비만', '2단계비만', '3단계비만'])"
      ],
      "metadata": {
        "id": "-FlN39wkvOKE"
      },
      "execution_count": null,
      "outputs": []
    },
    {
      "cell_type": "code",
      "source": [
        "#데이터 속성 확인\n",
        "BMIdf.info() "
      ],
      "metadata": {
        "id": "_GJ5hV1df8Tu"
      },
      "execution_count": null,
      "outputs": []
    },
    {
      "cell_type": "code",
      "source": [
        "#항목별 이름 부여\n",
        "BMIdf['성별'] = np.where(BMIdf['성별'] == 1, '남자', '여자')\n",
        "BMIdf.head()"
      ],
      "metadata": {
        "id": "_KE18UEKRPM8"
      },
      "execution_count": null,
      "outputs": []
    },
    {
      "cell_type": "code",
      "source": [
        "#빈도 구하기\n",
        "BMIdf['성별'].value_counts()"
      ],
      "metadata": {
        "id": "KRi-UvqWweMD"
      },
      "execution_count": null,
      "outputs": []
    },
    {
      "cell_type": "code",
      "source": [
        "#빈도 막대 그래프 만들기\n",
        "sns.countplot(data = BMIdf, x='성별')"
      ],
      "metadata": {
        "id": "jiK6h6ybTM_Z"
      },
      "execution_count": null,
      "outputs": []
    },
    {
      "cell_type": "code",
      "source": [
        "#요약 통계량 구하기\n",
        "BMIdf['BMI'].describe()"
      ],
      "metadata": {
        "id": "gLxNITGTThNJ"
      },
      "execution_count": null,
      "outputs": []
    },
    {
      "cell_type": "code",
      "source": [
        "#히스토그램 만들기\n",
        "sns.histplot(data = BMIdf, x='BMI')"
      ],
      "metadata": {
        "id": "p6BNmFFpTq-5"
      },
      "execution_count": null,
      "outputs": []
    },
    {
      "cell_type": "code",
      "source": [
        "#나이 BMI 선 그래프 만들기\n",
        "sns.lineplot(data = BMIdf, x='나이', y='BMI')"
      ],
      "metadata": {
        "id": "5X3yd0DrUFmh"
      },
      "execution_count": null,
      "outputs": []
    },
    {
      "cell_type": "code",
      "source": [
        "#나이 및 성별 BMI 선그래프 만들기\n",
        "sns.lineplot(data = BMIdf, x='나이', y='BMI', hue='성별')"
      ],
      "metadata": {
        "id": "b_lekYapWt3X"
      },
      "execution_count": null,
      "outputs": []
    },
    {
      "cell_type": "markdown",
      "source": [
        "#연령대 및 성별 BMI 차이"
      ],
      "metadata": {
        "id": "bstRggPMDmMB"
      }
    },
    {
      "cell_type": "code",
      "source": [
        "#변수 검토하기\n",
        "Rawdata['age'].dtypes   #변수 타입 출력"
      ],
      "metadata": {
        "id": "1JAXWNJVFoXn"
      },
      "execution_count": null,
      "outputs": []
    },
    {
      "cell_type": "code",
      "source": [
        "Rawdata['age'].describe()   #요약 통계량 구하기"
      ],
      "metadata": {
        "id": "PYH7cqkLF7Kx"
      },
      "execution_count": null,
      "outputs": []
    },
    {
      "cell_type": "code",
      "source": [
        "sns.histplot(data = Rawdata, x='age')   #히스토그램 만들기"
      ],
      "metadata": {
        "id": "cSBWFQzjGVP7"
      },
      "execution_count": null,
      "outputs": []
    },
    {
      "cell_type": "code",
      "source": [
        "#나이에 따른 BMI 평균표 만들기\n",
        "BMI_age = Rawdata.dropna(subset = ['HE_BMI']).groupby(['age']).agg(mean_BMI = ('HE_BMI', 'mean'))\n",
        "BMI_age.head()"
      ],
      "metadata": {
        "id": "F1cOpIKuGno7"
      },
      "execution_count": null,
      "outputs": []
    },
    {
      "cell_type": "code",
      "source": [
        "#선그래프 만들기\n",
        "sns.lineplot(data = BMI_age, x='age', y='mean_BMI')"
      ],
      "metadata": {
        "id": "OuBI4j1cHvL3"
      },
      "execution_count": null,
      "outputs": []
    },
    {
      "cell_type": "code",
      "source": [
        "data"
      ],
      "metadata": {
        "id": "PROm5tCqQtbK"
      },
      "execution_count": null,
      "outputs": []
    },
    {
      "cell_type": "code",
      "source": [
        "#연령대 변수 만들기\n",
        "data = data.assign(연령대 = np.where(data['나이'] < 10, '9세 미만',\n",
        "                            np.where(data['나이'] < 20, '10대',\n",
        "                            np.where(data['나이'] < 30, '20대',\n",
        "                            np.where(data['나이'] < 40, '30대',\n",
        "                            np.where(data['나이'] < 50, '40대',\n",
        "                            np.where(data['나이'] < 60, '50대',\n",
        "                            np.where(data['나이'] < 70, '60대',\n",
        "                            np.where(data['나이'] < 80, '70대', '80대 이상')))))))))\n",
        "\n",
        "#연령대 빈도 구하기\n",
        "data['연령대'].value_counts()"
      ],
      "metadata": {
        "id": "bFnHDB9wU5Hh"
      },
      "execution_count": null,
      "outputs": []
    },
    {
      "cell_type": "code",
      "source": [
        "#연령대별 BMI 평균 표 만들기\n",
        "BMI_ageg = data.dropna(subset = ['BMI']).groupby('연령대', as_index = False).agg(mean_BMI = ('BMI', 'mean'))\n",
        "BMI_ageg"
      ],
      "metadata": {
        "id": "YrpAgy9ZI_zd"
      },
      "execution_count": null,
      "outputs": []
    },
    {
      "cell_type": "code",
      "source": [
        "#막대 그래프 만들기\n",
        "sns.barplot(data = BMI_ageg, x='연령대', y='mean_BMI')"
      ],
      "metadata": {
        "id": "yeQ9pgnPKBDN"
      },
      "execution_count": null,
      "outputs": []
    },
    {
      "cell_type": "code",
      "source": [
        "#막대 정렬하기\n",
        "sns.barplot(data = BMI_ageg, x='연령대', y='mean_BMI', order = ['9세 미만', '10대', '20대', '30대', '40대', '50대', '60대', '70대', '80대 이상'])"
      ],
      "metadata": {
        "id": "qAtp8Oa0KPLa"
      },
      "execution_count": null,
      "outputs": []
    },
    {
      "cell_type": "code",
      "source": [
        "#연령대 및 성별 평균표 만들기\n",
        "BMI_avg = data.dropna(subset = ['BMI']).groupby(['연령대', '성별'], as_index = False).agg(mean_BMI = ('BMI', 'mean'))\n",
        "BMI_avg"
      ],
      "metadata": {
        "id": "qzzCXsV3K2P2"
      },
      "execution_count": null,
      "outputs": []
    },
    {
      "cell_type": "code",
      "source": [
        "#막대 그래프 만들기\n",
        "sns.barplot(data = BMI_avg, x='연령대', y='mean_BMI', hue = '성별')"
      ],
      "metadata": {
        "id": "ZzniwDGtMXvW"
      },
      "execution_count": null,
      "outputs": []
    },
    {
      "cell_type": "code",
      "source": [
        "#나이 및 성별 BMI 평균 표 만들기\n",
        "BMI_hue = data.dropna(subset = ['BMI']).groupby(['나이', '성별'], as_index = False).agg(mean_BMI = ('BMI', 'mean'))\n",
        "BMI_hue.head()"
      ],
      "metadata": {
        "id": "XsM6M4duMqCp"
      },
      "execution_count": null,
      "outputs": []
    },
    {
      "cell_type": "code",
      "source": [
        "#선 그래프 만들기\n",
        "sns.lineplot(data = BMI_hue, x='나이', y='mean_BMI', hue='성별')"
      ],
      "metadata": {
        "id": "jSACNReXNWEb"
      },
      "execution_count": null,
      "outputs": []
    },
    {
      "cell_type": "markdown",
      "source": [
        "#기술통계\n",
        "만 30세 이상 BMI의 평균\n",
        "\n",
        "####* 기존변수\n",
        "- HE_BMI : 체질량지수 (연속형)\n",
        "- age : 연령 (연속형)\n",
        "- sex : 성별 (1.남자, 2.여자)\n",
        "\n",
        "####* 생성변수\n",
        "- age30 : 30세를 기준으로 연령 구분 (0.30세 미만, 1.30세 이상)"
      ],
      "metadata": {
        "id": "zHVd429tnCvM"
      }
    },
    {
      "cell_type": "code",
      "source": [
        "#데이터프레임 확인하기\n",
        "data"
      ],
      "metadata": {
        "id": "1l3oYv1Aoifg"
      },
      "execution_count": null,
      "outputs": []
    },
    {
      "cell_type": "code",
      "source": [
        "#변수 생성하기\n",
        "data['age30'] = np.where(data['나이'] >= 30, '30세 이상', '30세 미만')\n",
        "data"
      ],
      "metadata": {
        "id": "_Q6ebLuWnE5N"
      },
      "execution_count": null,
      "outputs": []
    },
    {
      "cell_type": "code",
      "source": [
        "#나이 30세 이상인 데이터\n",
        "data['나이'] >=30"
      ],
      "metadata": {
        "id": "7t-Xpu0SqB80"
      },
      "execution_count": null,
      "outputs": []
    },
    {
      "cell_type": "code",
      "source": [
        "#나이 30세 이상인 데이터 추출\n",
        "data_age30 = data[data['나이'] >= 30]\n",
        "data_age30"
      ],
      "metadata": {
        "id": "PzWxVeiCqUAY"
      },
      "execution_count": null,
      "outputs": []
    },
    {
      "cell_type": "code",
      "source": [
        "#30세 이상에서 BMI 평균 구하기\n",
        "print(data_age30['BMI'].mean())"
      ],
      "metadata": {
        "id": "hWH80998xW8I"
      },
      "execution_count": null,
      "outputs": []
    },
    {
      "cell_type": "code",
      "source": [
        "#30세 이상에서 BMI 기술통계\n",
        "data_age30['BMI'].describe()"
      ],
      "metadata": {
        "id": "w4HagSo-x7hM"
      },
      "execution_count": null,
      "outputs": []
    },
    {
      "cell_type": "code",
      "source": [
        "#30세 이상에서 성별에 따른 BMI 비교하기\n",
        "data_age30.groupby('성별')['BMI'].describe()"
      ],
      "metadata": {
        "id": "gz74MTjXov6f"
      },
      "execution_count": null,
      "outputs": []
    },
    {
      "cell_type": "markdown",
      "source": [
        "#t-test (t-검정)\n",
        "두 집단의 평균에 통계적으로 유의한 차이가 있는지 알아볼 때 사용하는 통계 분석 기법\n"
      ],
      "metadata": {
        "id": "fZwomxgGzsc-"
      }
    },
    {
      "cell_type": "code",
      "source": [
        "#결측치가 하나라도 있으면 제거하기\n",
        "data_age30 = data_age30.dropna()"
      ],
      "metadata": {
        "id": "5lVX7t66zb89"
      },
      "execution_count": null,
      "outputs": []
    },
    {
      "cell_type": "code",
      "source": [
        "#항목별 이름 부여\n",
        "data_age30['성별'] = np.where(data_age30['성별'] == 1, '남자', '여자')\n",
        "data_age30.head()"
      ],
      "metadata": {
        "id": "urkKwAVYzxKB"
      },
      "execution_count": null,
      "outputs": []
    },
    {
      "cell_type": "code",
      "source": [
        "#30세 이상에서 성별에 따른 BMI 비교하기\n",
        "data_age30.groupby('성별')['BMI'].describe()"
      ],
      "metadata": {
        "id": "6b2RpnKsz487"
      },
      "execution_count": null,
      "outputs": []
    },
    {
      "cell_type": "code",
      "source": [
        "male = data_age30.query('성별 == \"남자\"')['BMI']\n",
        "female = data_age30.query('성별 == \"여자\"')['BMI']"
      ],
      "metadata": {
        "id": "JryIuxrd10uX"
      },
      "execution_count": null,
      "outputs": []
    },
    {
      "cell_type": "code",
      "source": [
        "#t-test\n",
        "from scipy import stats\n",
        "stats.ttest_ind(male, female, equal_var = True)"
      ],
      "metadata": {
        "id": "8JFRCldm4E2G"
      },
      "execution_count": null,
      "outputs": []
    },
    {
      "cell_type": "markdown",
      "source": [],
      "metadata": {
        "id": "2Hk4mDxRJV2B"
      }
    },
    {
      "cell_type": "markdown",
      "source": [
        "# 예제\n",
        "\n",
        " 만 30세 이상에서 성별에 따른 고혈압 유병률을 산출하고, \n",
        " 만 30세 이상에서 성별과 고혈압 유병여부에 관한 연관성을 검정한다.\n",
        "\n",
        "####* 기존변수  \n",
        " - HE_HP : 고혈압 유병여부 (1.정상, 2.고혈압전단계, 3.고혈압)\n",
        " - age : 연령 (연속형)\n",
        " - sex : 성별 (1.남자, 2.여자)\n",
        " \n",
        " \n",
        "####* 생성변수\n",
        " - age30 : 30세를 기준으로 연령 구분 (0.30세 미만, 1.30세 이상)\n"
      ],
      "metadata": {
        "id": "pFeBVjAPRm4Z"
      }
    },
    {
      "cell_type": "code",
      "source": [
        "#연령대 빈도 막대 그래프 만들기\n",
        "sns.countplot(data = data, x='연령대')"
      ],
      "metadata": {
        "id": "gXAcgjjvWZyA"
      },
      "execution_count": null,
      "outputs": []
    },
    {
      "cell_type": "code",
      "source": [
        "#데이터 추출하기\n",
        "HPdf = Rawdata[['ID', 'sex', 'age', 'HE_HP']]\n",
        "HPdf.head() "
      ],
      "metadata": {
        "id": "g5-tmrP4Rhii"
      },
      "execution_count": null,
      "outputs": []
    },
    {
      "cell_type": "code",
      "source": [
        "#빈도 구하기\n",
        "HPdf['HE_HP'].value_counts()"
      ],
      "metadata": {
        "id": "rJQjiSHSTaiz"
      },
      "execution_count": null,
      "outputs": []
    },
    {
      "cell_type": "code",
      "source": [
        "#새로운 변수 만들기\n",
        "HPdf['age30'] = np.where(HPdf['age'] < 30, '30세 미만', '30세 이상')\n",
        "HPdf.head()"
      ],
      "metadata": {
        "id": "9JQjU30jTmda"
      },
      "execution_count": null,
      "outputs": []
    },
    {
      "cell_type": "code",
      "source": [
        "#나이별 빈도\n",
        "n_age = HPdf.groupby('age30', as_index = False).agg(n = ('age30', 'count'))\n",
        "n_age"
      ],
      "metadata": {
        "id": "PciZbY-6UHkQ"
      },
      "execution_count": null,
      "outputs": []
    },
    {
      "cell_type": "code",
      "source": [
        "#막대 그래프 만들기\n",
        "sns.barplot(data = n_age, x='age30', y='n')"
      ],
      "metadata": {
        "id": "6UPv2Uuxh2jc"
      },
      "execution_count": null,
      "outputs": []
    },
    {
      "cell_type": "code",
      "source": [
        "#성별에 따른 고혈압 유병률표 만들기\n"
      ],
      "metadata": {
        "id": "Z8eR4xtfWabz"
      },
      "execution_count": null,
      "outputs": []
    },
    {
      "cell_type": "code",
      "source": [
        "#데이터 추출하기\n",
        "BMIage = Rawdata[['ID', 'age', 'sex', 'HE_BMI']]\n",
        "BMIage.head()"
      ],
      "metadata": {
        "id": "5MOtc_clDlBf"
      },
      "execution_count": null,
      "outputs": []
    },
    {
      "cell_type": "code",
      "source": [
        "HP"
      ],
      "metadata": {
        "id": "SYs7VrQUf-zX"
      },
      "execution_count": null,
      "outputs": []
    }
  ]
}